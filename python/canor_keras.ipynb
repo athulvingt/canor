{
 "cells": [
  {
   "cell_type": "code",
   "execution_count": 0,
   "metadata": {
    "colab": {
     "base_uri": "https://localhost:8080/",
     "height": 34
    },
    "colab_type": "code",
    "executionInfo": {
     "elapsed": 2441,
     "status": "ok",
     "timestamp": 1554768433362,
     "user": {
      "displayName": "Athul KS",
      "photoUrl": "",
      "userId": "03174642990050389939"
     },
     "user_tz": -330
    },
    "id": "zWbt8Fn321lU",
    "outputId": "da921acd-f5c2-4f57-e0fb-16ecf813dcb0"
   },
   "outputs": [
    {
     "name": "stdout",
     "output_type": "stream",
     "text": [
      "Drive already mounted at /content/gdrive; to attempt to forcibly remount, call drive.mount(\"/content/gdrive\", force_remount=True).\n"
     ]
    }
   ],
   "source": [
    "from google.colab import drive\n",
    "drive.mount('/content/gdrive')"
   ]
  },
  {
   "cell_type": "code",
   "execution_count": 0,
   "metadata": {
    "colab": {
     "base_uri": "https://localhost:8080/",
     "height": 34
    },
    "colab_type": "code",
    "executionInfo": {
     "elapsed": 6300,
     "status": "ok",
     "timestamp": 1554768463301,
     "user": {
      "displayName": "Athul KS",
      "photoUrl": "",
      "userId": "03174642990050389939"
     },
     "user_tz": -330
    },
    "id": "jHXBbwA43W4Z",
    "outputId": "14b5fb83-7c30-4da9-8647-6413d2442d79"
   },
   "outputs": [
    {
     "name": "stderr",
     "output_type": "stream",
     "text": [
      "Using TensorFlow backend.\n"
     ]
    }
   ],
   "source": [
    "import warnings\n",
    "warnings.filterwarnings(\"ignore\", category = FutureWarning)\n",
    "\n",
    "import os\n",
    "import keras\n",
    "import h5py\n",
    "import librosa\n",
    "import itertools\n",
    "import numpy as np\n",
    "import matplotlib.pyplot as plt\n",
    "from collections import OrderedDict\n",
    "\n",
    "from keras.utils import to_categorical\n",
    "from sklearn.model_selection import train_test_split\n",
    "from sklearn.metrics import confusion_matrix\n",
    "\n",
    "from keras.models import Sequential\n",
    "from keras.layers import Dense\n",
    "from keras.layers import Activation\n",
    "from keras.layers import Conv2D\n",
    "from keras.layers import MaxPooling2D\n",
    "from keras.layers import Dropout\n",
    "from keras.layers import Flatten\n",
    "from keras.layers import BatchNormalization"
   ]
  },
  {
   "cell_type": "markdown",
   "metadata": {
    "colab_type": "text",
    "id": "JtvrdRDm21lf"
   },
   "source": [
    "# Read the data\n",
    "\n",
    "> Helper functions to assist the process to read songs, split then and return an array of spectrograms/melspectrograms"
   ]
  },
  {
   "cell_type": "code",
   "execution_count": 0,
   "metadata": {
    "colab": {},
    "colab_type": "code",
    "id": "eKIBkXX-21lh"
   },
   "outputs": [],
   "source": [
    "\"\"\"\n",
    "@description: Method to split a song into multiple songs using overlapping windows\n",
    "\"\"\"\n",
    "def splitsongs(X, y, window = 0.1, overlap = 0.5):\n",
    "    # Empty lists to hold our results\n",
    "    temp_X = []\n",
    "    temp_y = []\n",
    "\n",
    "    # Get the input song array size\n",
    "    xshape = X.shape[0]\n",
    "    chunk = int(xshape*window)\n",
    "    offset = int(chunk*(1.-overlap))\n",
    "    \n",
    "    \n",
    "    # Split the song and create new ones on windows\n",
    "    spsong = [X[i:i+chunk] for i in range(0, xshape - chunk + offset, offset)]\n",
    "    for s in spsong:\n",
    "        temp_X.append(s)\n",
    "       \n",
    "        temp_y.append(y)\n",
    "\n",
    "    return np.array(temp_X), np.array(temp_y)"
   ]
  },
  {
   "cell_type": "code",
   "execution_count": 0,
   "metadata": {
    "colab": {},
    "colab_type": "code",
    "id": "X0h9nbM221ln"
   },
   "outputs": [],
   "source": [
    "\"\"\"\n",
    "@description: Method to convert a list of songs to a np array of melspectrograms\n",
    "\"\"\"\n",
    "def to_melspectrogram(songs, n_fft = 1024, hop_length = 512):\n",
    "    # Transformation function\n",
    "    melspec = lambda x: librosa.feature.melspectrogram(x, n_fft = n_fft,\n",
    "        hop_length = hop_length)[:,:,np.newaxis]\n",
    "    \n",
    "\n",
    "    # map transformation of input songs to melspectrogram using log-scale\n",
    "    tsongs = map(melspec, songs)\n",
    "    return np.array(list(tsongs))"
   ]
  },
  {
   "cell_type": "code",
   "execution_count": 0,
   "metadata": {
    "colab": {},
    "colab_type": "code",
    "id": "FhRo3jrn21lr"
   },
   "outputs": [],
   "source": [
    "def read_data(src_dir, genres, song_samples, spec_format, debug = True):    \n",
    "    # Empty array of dicts with the processed features from all files\n",
    "    arr_specs = []\n",
    "    arr_genres = []\n",
    "\n",
    "    # Read files from the folders\n",
    "    for x,_ in genres.items():\n",
    "        folder = src_dir + x\n",
    "        \n",
    "        for root, subdirs, files in os.walk(folder):\n",
    "            for file in files:\n",
    "                # Read the audio file\n",
    "                file_name = folder + \"/\" + file\n",
    "                signal, sr = librosa.load(file_name)\n",
    "                signal = signal[:song_samples]\n",
    "                \n",
    "                # Debug process\n",
    "                if debug:\n",
    "                    print(\"Reading file: {}\".format(file_name))\n",
    "                \n",
    "                # Convert to dataset of spectograms/melspectograms\n",
    "                signals, y = splitsongs(signal, genres[x])\n",
    "                \n",
    "                \n",
    "                # Convert to \"spec\" representation\n",
    "                specs = spec_format(signals)\n",
    "          \n",
    "                \n",
    "                # Save files\n",
    "                arr_genres.extend(y)\n",
    "                arr_specs.extend(specs)\n",
    "                \n",
    "                \n",
    "    return np.array(arr_specs), np.array(arr_genres)"
   ]
  },
  {
   "cell_type": "code",
   "execution_count": 0,
   "metadata": {
    "colab": {
     "base_uri": "https://localhost:8080/",
     "height": 34
    },
    "colab_type": "code",
    "executionInfo": {
     "elapsed": 2058,
     "status": "ok",
     "timestamp": 1554383882923,
     "user": {
      "displayName": "Athul KS",
      "photoUrl": "",
      "userId": "03174642990050389939"
     },
     "user_tz": -330
    },
    "id": "T2i7V94V21lv",
    "outputId": "b0ce9bdf-7aea-4318-a90f-484691c876ab"
   },
   "outputs": [
    {
     "name": "stdout",
     "output_type": "stream",
     "text": [
      "done\n"
     ]
    }
   ],
   "source": [
    "# Parameters\n",
    "gtzan_dir = '/content/gdrive/My Drive/gtzan.keras/data/genres/'\n",
    "song_samples = 660000\n",
    "genres = {'metal': 0, 'disco': 1, 'classical': 2, 'hiphop': 3, 'jazz': 4, \n",
    "          'country': 5, 'pop': 6, 'blues': 7, 'reggae': 8, 'rock': 9}\n",
    "\n",
    "# Read the data\n",
    "#X, y = read_data(gtzan_dir, genres, song_samples, to_melspectrogram, debug=False)\n",
    "print(\"done\")"
   ]
  },
  {
   "cell_type": "code",
   "execution_count": 0,
   "metadata": {
    "colab": {},
    "colab_type": "code",
    "id": "gPR6fzg_21l0"
   },
   "outputs": [],
   "source": [
    "np.save('/content/gdrive/My Drive/gtzan.keras/data/x_gtzan_npy.npy', X)\n",
    "np.save('/content/gdrive/My Drive/gtzan.keras/data/y_gtzan_npy.npy', y)"
   ]
  },
  {
   "cell_type": "code",
   "execution_count": 0,
   "metadata": {
    "colab": {},
    "colab_type": "code",
    "id": "gS8CM83PCf4z"
   },
   "outputs": [],
   "source": [
    "X = np.load('/content/gdrive/My Drive/gtzan.keras/data/x_gtzan_npy.npy')\n",
    "y = np.load('/content/gdrive/My Drive/gtzan.keras/data/y_gtzan_npy.npy')"
   ]
  },
  {
   "cell_type": "code",
   "execution_count": 0,
   "metadata": {
    "colab": {},
    "colab_type": "code",
    "id": "SM1gUs3W21l6"
   },
   "outputs": [],
   "source": [
    "# One hot encoding of the labels\n",
    "y = to_categorical(y)"
   ]
  },
  {
   "cell_type": "markdown",
   "metadata": {
    "colab_type": "text",
    "id": "fAafBxyn21mB"
   },
   "source": [
    "# Dataset Split"
   ]
  },
  {
   "cell_type": "code",
   "execution_count": 0,
   "metadata": {
    "colab": {},
    "colab_type": "code",
    "id": "fUqIqJ3-21mE"
   },
   "outputs": [],
   "source": [
    "X_train, X_test, y_train, y_test = train_test_split(X, y, test_size=0.3, random_state=42, stratify = y)"
   ]
  },
  {
   "cell_type": "code",
   "execution_count": 0,
   "metadata": {
    "colab": {
     "base_uri": "https://localhost:8080/",
     "height": 34
    },
    "colab_type": "code",
    "executionInfo": {
     "elapsed": 51314,
     "status": "ok",
     "timestamp": 1554369729561,
     "user": {
      "displayName": "Athul KS",
      "photoUrl": "",
      "userId": "03174642990050389939"
     },
     "user_tz": -330
    },
    "id": "8tf6SULY21mK",
    "outputId": "5975d424-0ee4-46fb-e1de-068d72592410"
   },
   "outputs": [
    {
     "name": "stdout",
     "output_type": "stream",
     "text": [
      "(13300, 128, 129, 1) (5700, 128, 129, 1) (13300, 10) (5700, 10)\n"
     ]
    }
   ],
   "source": [
    "print(X_train.shape, X_test.shape, y_train.shape, y_test.shape)"
   ]
  },
  {
   "cell_type": "markdown",
   "metadata": {
    "colab_type": "text",
    "id": "tz8DTPeY21mY"
   },
   "source": [
    "# Training"
   ]
  },
  {
   "cell_type": "code",
   "execution_count": 0,
   "metadata": {
    "colab": {
     "base_uri": "https://localhost:8080/",
     "height": 836
    },
    "colab_type": "code",
    "executionInfo": {
     "elapsed": 44148,
     "status": "ok",
     "timestamp": 1554369730728,
     "user": {
      "displayName": "Athul KS",
      "photoUrl": "",
      "userId": "03174642990050389939"
     },
     "user_tz": -330
    },
    "id": "Pna7O6vs21ma",
    "outputId": "68c8eff4-a867-4860-810a-9e584ba4b76a"
   },
   "outputs": [
    {
     "name": "stdout",
     "output_type": "stream",
     "text": [
      "WARNING:tensorflow:From /usr/local/lib/python3.6/dist-packages/tensorflow/python/framework/op_def_library.py:263: colocate_with (from tensorflow.python.framework.ops) is deprecated and will be removed in a future version.\n",
      "Instructions for updating:\n",
      "Colocations handled automatically by placer.\n",
      "WARNING:tensorflow:From /usr/local/lib/python3.6/dist-packages/keras/backend/tensorflow_backend.py:3445: calling dropout (from tensorflow.python.ops.nn_ops) with keep_prob is deprecated and will be removed in a future version.\n",
      "Instructions for updating:\n",
      "Please use `rate` instead of `keep_prob`. Rate should be set to `rate = 1 - keep_prob`.\n",
      "_________________________________________________________________\n",
      "Layer (type)                 Output Shape              Param #   \n",
      "=================================================================\n",
      "conv2d_1 (Conv2D)            (None, 126, 127, 16)      160       \n",
      "_________________________________________________________________\n",
      "max_pooling2d_1 (MaxPooling2 (None, 63, 63, 16)        0         \n",
      "_________________________________________________________________\n",
      "dropout_1 (Dropout)          (None, 63, 63, 16)        0         \n",
      "_________________________________________________________________\n",
      "conv2d_2 (Conv2D)            (None, 61, 61, 32)        4640      \n",
      "_________________________________________________________________\n",
      "max_pooling2d_2 (MaxPooling2 (None, 30, 30, 32)        0         \n",
      "_________________________________________________________________\n",
      "dropout_2 (Dropout)          (None, 30, 30, 32)        0         \n",
      "_________________________________________________________________\n",
      "conv2d_3 (Conv2D)            (None, 28, 28, 64)        18496     \n",
      "_________________________________________________________________\n",
      "max_pooling2d_3 (MaxPooling2 (None, 14, 14, 64)        0         \n",
      "_________________________________________________________________\n",
      "dropout_3 (Dropout)          (None, 14, 14, 64)        0         \n",
      "_________________________________________________________________\n",
      "conv2d_4 (Conv2D)            (None, 12, 12, 128)       73856     \n",
      "_________________________________________________________________\n",
      "max_pooling2d_4 (MaxPooling2 (None, 6, 6, 128)         0         \n",
      "_________________________________________________________________\n",
      "dropout_4 (Dropout)          (None, 6, 6, 128)         0         \n",
      "_________________________________________________________________\n",
      "conv2d_5 (Conv2D)            (None, 4, 4, 64)          73792     \n",
      "_________________________________________________________________\n",
      "max_pooling2d_5 (MaxPooling2 (None, 1, 1, 64)          0         \n",
      "_________________________________________________________________\n",
      "dropout_5 (Dropout)          (None, 1, 1, 64)          0         \n",
      "_________________________________________________________________\n",
      "flatten_1 (Flatten)          (None, 64)                0         \n",
      "_________________________________________________________________\n",
      "dense_1 (Dense)              (None, 10)                650       \n",
      "=================================================================\n",
      "Total params: 171,594\n",
      "Trainable params: 171,594\n",
      "Non-trainable params: 0\n",
      "_________________________________________________________________\n"
     ]
    }
   ],
   "source": [
    "# Model Definition\n",
    "input_shape = X_train[0].shape\n",
    "num_genres = 10\n",
    "\n",
    "model = Sequential()\n",
    "# Conv Block 1\n",
    "model.add(Conv2D(16, kernel_size=(3, 3), strides=(1, 1),\n",
    "                 activation='relu', input_shape=input_shape))\n",
    "model.add(MaxPooling2D(pool_size=(2, 2), strides=(2, 2)))\n",
    "model.add(Dropout(0.25))\n",
    "\n",
    "# Conv Block 2\n",
    "model.add(Conv2D(32, (3, 3), strides=(1, 1), activation='relu'))\n",
    "model.add(MaxPooling2D(pool_size=(2, 2), strides=(2, 2)))\n",
    "model.add(Dropout(0.25))\n",
    "\n",
    "# Conv Block 3\n",
    "model.add(Conv2D(64, (3, 3), strides=(1, 1), activation='relu'))\n",
    "model.add(MaxPooling2D(pool_size=(2, 2), strides=(2, 2)))\n",
    "model.add(Dropout(0.25))\n",
    "\n",
    "# Conv Block 4\n",
    "model.add(Conv2D(128, (3, 3), strides=(1, 1), activation='relu'))\n",
    "model.add(MaxPooling2D(pool_size=(2, 2), strides=(2, 2)))\n",
    "model.add(Dropout(0.25))\n",
    "\n",
    "# Conv Block 5\n",
    "model.add(Conv2D(64, (3, 3), strides=(1, 1), activation='relu'))\n",
    "model.add(MaxPooling2D(pool_size=(4, 4), strides=(4, 4)))\n",
    "model.add(Dropout(0.25))\n",
    "\n",
    "# MLP\n",
    "model.add(Flatten())\n",
    "model.add(Dense(num_genres, activation='softmax'))\n",
    "\n",
    "model.summary()"
   ]
  },
  {
   "cell_type": "code",
   "execution_count": 0,
   "metadata": {
    "colab": {
     "base_uri": "https://localhost:8080/",
     "height": 1805
    },
    "colab_type": "code",
    "executionInfo": {
     "elapsed": 1577068,
     "status": "ok",
     "timestamp": 1554383714441,
     "user": {
      "displayName": "Athul KS",
      "photoUrl": "",
      "userId": "03174642990050389939"
     },
     "user_tz": -330
    },
    "id": "PSpbMkkh21mf",
    "outputId": "cabf8d7a-df38-4c9c-a34e-0c5a1a30ed0f"
   },
   "outputs": [
    {
     "name": "stdout",
     "output_type": "stream",
     "text": [
      "WARNING:tensorflow:From /usr/local/lib/python3.6/dist-packages/tensorflow/python/ops/math_ops.py:3066: to_int32 (from tensorflow.python.ops.math_ops) is deprecated and will be removed in a future version.\n",
      "Instructions for updating:\n",
      "Use tf.cast instead.\n",
      "Train on 13300 samples, validate on 5700 samples\n",
      "Epoch 1/50\n",
      "13300/13300 [==============================] - 285s 21ms/step - loss: 2.1381 - acc: 0.2437 - val_loss: 1.8709 - val_acc: 0.3170\n",
      "Epoch 2/50\n",
      "13300/13300 [==============================] - 284s 21ms/step - loss: 1.7298 - acc: 0.3726 - val_loss: 1.5826 - val_acc: 0.4253\n",
      "Epoch 3/50\n",
      "13300/13300 [==============================] - 283s 21ms/step - loss: 1.5466 - acc: 0.4439 - val_loss: 1.4832 - val_acc: 0.4554\n",
      "Epoch 4/50\n",
      "13300/13300 [==============================] - 275s 21ms/step - loss: 1.4281 - acc: 0.4911 - val_loss: 1.3001 - val_acc: 0.5442\n",
      "Epoch 5/50\n",
      "13300/13300 [==============================] - 272s 20ms/step - loss: 1.3352 - acc: 0.5349 - val_loss: 1.3137 - val_acc: 0.5316\n",
      "Epoch 6/50\n",
      "13300/13300 [==============================] - 272s 20ms/step - loss: 1.2679 - acc: 0.5622 - val_loss: 1.1673 - val_acc: 0.6033\n",
      "Epoch 7/50\n",
      "13300/13300 [==============================] - 272s 20ms/step - loss: 1.1963 - acc: 0.5871 - val_loss: 1.1652 - val_acc: 0.6054\n",
      "Epoch 8/50\n",
      "13300/13300 [==============================] - 271s 20ms/step - loss: 1.1329 - acc: 0.6137 - val_loss: 1.0362 - val_acc: 0.6479\n",
      "Epoch 9/50\n",
      "13300/13300 [==============================] - 269s 20ms/step - loss: 1.0730 - acc: 0.6378 - val_loss: 0.9967 - val_acc: 0.6684\n",
      "Epoch 10/50\n",
      "13300/13300 [==============================] - 272s 20ms/step - loss: 1.0289 - acc: 0.6494 - val_loss: 0.9189 - val_acc: 0.7075\n",
      "Epoch 11/50\n",
      "13300/13300 [==============================] - 271s 20ms/step - loss: 0.9654 - acc: 0.6774 - val_loss: 0.8846 - val_acc: 0.7104\n",
      "Epoch 12/50\n",
      "13300/13300 [==============================] - 269s 20ms/step - loss: 0.9470 - acc: 0.6848 - val_loss: 0.8865 - val_acc: 0.7260\n",
      "Epoch 13/50\n",
      "13300/13300 [==============================] - 270s 20ms/step - loss: 0.9105 - acc: 0.6934 - val_loss: 0.8457 - val_acc: 0.7330\n",
      "Epoch 14/50\n",
      "13300/13300 [==============================] - 267s 20ms/step - loss: 0.8824 - acc: 0.7031 - val_loss: 0.7967 - val_acc: 0.7516\n",
      "Epoch 15/50\n",
      "13300/13300 [==============================] - 274s 21ms/step - loss: 0.8716 - acc: 0.7094 - val_loss: 0.8208 - val_acc: 0.7404\n",
      "Epoch 16/50\n",
      "13300/13300 [==============================] - 279s 21ms/step - loss: 0.8395 - acc: 0.7260 - val_loss: 0.7313 - val_acc: 0.7665\n",
      "Epoch 17/50\n",
      "13300/13300 [==============================] - 279s 21ms/step - loss: 0.8198 - acc: 0.7258 - val_loss: 0.7238 - val_acc: 0.7707\n",
      "Epoch 18/50\n",
      "13300/13300 [==============================] - 284s 21ms/step - loss: 0.7963 - acc: 0.7335 - val_loss: 0.7034 - val_acc: 0.7718\n",
      "Epoch 19/50\n",
      "13300/13300 [==============================] - 286s 21ms/step - loss: 0.7728 - acc: 0.7422 - val_loss: 0.7104 - val_acc: 0.7753\n",
      "Epoch 20/50\n",
      "13300/13300 [==============================] - 278s 21ms/step - loss: 0.7505 - acc: 0.7509 - val_loss: 0.6689 - val_acc: 0.7900\n",
      "Epoch 21/50\n",
      "13300/13300 [==============================] - 282s 21ms/step - loss: 0.7352 - acc: 0.7561 - val_loss: 0.7304 - val_acc: 0.7596\n",
      "Epoch 22/50\n",
      "13300/13300 [==============================] - 284s 21ms/step - loss: 0.7082 - acc: 0.7618 - val_loss: 0.6464 - val_acc: 0.7896\n",
      "Epoch 23/50\n",
      "13300/13300 [==============================] - 284s 21ms/step - loss: 0.7108 - acc: 0.7632 - val_loss: 0.6639 - val_acc: 0.7830\n",
      "Epoch 24/50\n",
      "13300/13300 [==============================] - 281s 21ms/step - loss: 0.6938 - acc: 0.7709 - val_loss: 0.6752 - val_acc: 0.7826\n",
      "Epoch 25/50\n",
      "13300/13300 [==============================] - 281s 21ms/step - loss: 0.6715 - acc: 0.7747 - val_loss: 0.6094 - val_acc: 0.8019\n",
      "Epoch 26/50\n",
      "13300/13300 [==============================] - 280s 21ms/step - loss: 0.6521 - acc: 0.7810 - val_loss: 0.6280 - val_acc: 0.8005\n",
      "Epoch 27/50\n",
      "13300/13300 [==============================] - 284s 21ms/step - loss: 0.6758 - acc: 0.7734 - val_loss: 0.6938 - val_acc: 0.7635\n",
      "Epoch 28/50\n",
      "13300/13300 [==============================] - 280s 21ms/step - loss: 0.6486 - acc: 0.7834 - val_loss: 0.6340 - val_acc: 0.7914\n",
      "Epoch 29/50\n",
      "13300/13300 [==============================] - 286s 22ms/step - loss: 0.6268 - acc: 0.7932 - val_loss: 0.6024 - val_acc: 0.8035\n",
      "Epoch 30/50\n",
      "13300/13300 [==============================] - 285s 21ms/step - loss: 0.6169 - acc: 0.7937 - val_loss: 0.5618 - val_acc: 0.8172\n",
      "Epoch 31/50\n",
      "13300/13300 [==============================] - 282s 21ms/step - loss: 0.6219 - acc: 0.7927 - val_loss: 0.6092 - val_acc: 0.8037\n",
      "Epoch 32/50\n",
      "13300/13300 [==============================] - 280s 21ms/step - loss: 0.6216 - acc: 0.7959 - val_loss: 0.5706 - val_acc: 0.8161\n",
      "Epoch 33/50\n",
      "13300/13300 [==============================] - 284s 21ms/step - loss: 0.6067 - acc: 0.7996 - val_loss: 0.6177 - val_acc: 0.8037\n",
      "Epoch 34/50\n",
      "13300/13300 [==============================] - 280s 21ms/step - loss: 0.5925 - acc: 0.8001 - val_loss: 0.5354 - val_acc: 0.8267\n",
      "Epoch 35/50\n",
      "13300/13300 [==============================] - 283s 21ms/step - loss: 0.5912 - acc: 0.8028 - val_loss: 0.6146 - val_acc: 0.7961\n",
      "Epoch 36/50\n",
      "13300/13300 [==============================] - 287s 22ms/step - loss: 0.5761 - acc: 0.8056 - val_loss: 0.5834 - val_acc: 0.8116\n",
      "Epoch 37/50\n",
      "13300/13300 [==============================] - 289s 22ms/step - loss: 0.5720 - acc: 0.8074 - val_loss: 0.5182 - val_acc: 0.8333\n",
      "Epoch 38/50\n",
      "13300/13300 [==============================] - 284s 21ms/step - loss: 0.5615 - acc: 0.8114 - val_loss: 0.5656 - val_acc: 0.8228\n",
      "Epoch 39/50\n",
      "13300/13300 [==============================] - 283s 21ms/step - loss: 0.5339 - acc: 0.8186 - val_loss: 0.5725 - val_acc: 0.8140\n",
      "Epoch 40/50\n",
      "13300/13300 [==============================] - 279s 21ms/step - loss: 0.5630 - acc: 0.8134 - val_loss: 0.5654 - val_acc: 0.8181\n",
      "Epoch 41/50\n",
      "13300/13300 [==============================] - 279s 21ms/step - loss: 0.5611 - acc: 0.8150 - val_loss: 0.5588 - val_acc: 0.8163\n",
      "Epoch 42/50\n",
      "13300/13300 [==============================] - 280s 21ms/step - loss: 0.5420 - acc: 0.8177 - val_loss: 0.5790 - val_acc: 0.8040\n",
      "Epoch 43/50\n",
      "13300/13300 [==============================] - 280s 21ms/step - loss: 0.5244 - acc: 0.8226 - val_loss: 0.5369 - val_acc: 0.8321\n",
      "Epoch 44/50\n",
      "13300/13300 [==============================] - 282s 21ms/step - loss: 0.5349 - acc: 0.8217 - val_loss: 0.5378 - val_acc: 0.8221\n",
      "Epoch 45/50\n",
      "13300/13300 [==============================] - 287s 22ms/step - loss: 0.5262 - acc: 0.8265 - val_loss: 0.5025 - val_acc: 0.8432\n",
      "Epoch 46/50\n",
      "13300/13300 [==============================] - 283s 21ms/step - loss: 0.5361 - acc: 0.8198 - val_loss: 0.5485 - val_acc: 0.8158\n",
      "Epoch 47/50\n",
      "13300/13300 [==============================] - 281s 21ms/step - loss: 0.5232 - acc: 0.8256 - val_loss: 0.4848 - val_acc: 0.8411\n",
      "Epoch 48/50\n",
      "13300/13300 [==============================] - 282s 21ms/step - loss: 0.5189 - acc: 0.8283 - val_loss: 0.5162 - val_acc: 0.8272\n",
      "Epoch 49/50\n",
      "13300/13300 [==============================] - 283s 21ms/step - loss: 0.5237 - acc: 0.8232 - val_loss: 0.4861 - val_acc: 0.8409\n",
      "Epoch 50/50\n",
      "13300/13300 [==============================] - 284s 21ms/step - loss: 0.4964 - acc: 0.8378 - val_loss: 0.4625 - val_acc: 0.8502\n"
     ]
    }
   ],
   "source": [
    "model.compile(loss=keras.losses.categorical_crossentropy,\n",
    "              optimizer=keras.optimizers.Adam(),\n",
    "              metrics=['accuracy'])\n",
    "\n",
    "hist = model.fit(X_train, y_train,\n",
    "          batch_size=32,\n",
    "          epochs=50,\n",
    "          verbose=1,\n",
    "          validation_data=(X_test, y_test))"
   ]
  },
  {
   "cell_type": "code",
   "execution_count": 0,
   "metadata": {
    "colab": {
     "base_uri": "https://localhost:8080/",
     "height": 34
    },
    "colab_type": "code",
    "executionInfo": {
     "elapsed": 33314,
     "status": "ok",
     "timestamp": 1554383747750,
     "user": {
      "displayName": "Athul KS",
      "photoUrl": "",
      "userId": "03174642990050389939"
     },
     "user_tz": -330
    },
    "id": "jvBdHepJ21mo",
    "outputId": "84b2a799-6e9d-4d19-c646-e0b31702000e"
   },
   "outputs": [
    {
     "name": "stdout",
     "output_type": "stream",
     "text": [
      "val_loss = 0.462 and val_acc = 0.850\n"
     ]
    }
   ],
   "source": [
    "score = model.evaluate(X_test, y_test, verbose=0)\n",
    "print(\"val_loss = {:.3f} and val_acc = {:.3f}\".format(score[0], score[1]))"
   ]
  },
  {
   "cell_type": "code",
   "execution_count": 0,
   "metadata": {
    "colab": {
     "base_uri": "https://localhost:8080/",
     "height": 509
    },
    "colab_type": "code",
    "executionInfo": {
     "elapsed": 187,
     "status": "ok",
     "timestamp": 1554383747752,
     "user": {
      "displayName": "Athul KS",
      "photoUrl": "",
      "userId": "03174642990050389939"
     },
     "user_tz": -330
    },
    "id": "o18yxJ8w21my",
    "outputId": "1c0e43b2-45be-4d8e-bd32-e565fbbf514b"
   },
   "outputs": [
    {
     "data": {
      "image/png": "[encoded data removed]",
      "text/plain": [
       "<Figure size 1080x504 with 2 Axes>"
      ]
     },
     "metadata": {
      "tags": []
     },
     "output_type": "display_data"
    }
   ],
   "source": [
    "plt.figure(figsize=(15,7))\n",
    "\n",
    "plt.subplot(1,2,1)\n",
    "plt.plot(hist.history['acc'], label='train')\n",
    "plt.plot(hist.history['val_acc'], label='validation')\n",
    "plt.title('Accuracy')\n",
    "plt.xlabel('Epochs')\n",
    "plt.ylabel('Accuracy')\n",
    "plt.legend()\n",
    "\n",
    "plt.subplot(1,2,2)\n",
    "plt.plot(hist.history['loss'], label='train')\n",
    "plt.plot(hist.history['val_loss'], label='validation')\n",
    "plt.title('Loss')\n",
    "plt.xlabel('Epochs')\n",
    "plt.ylabel('Loss')\n",
    "plt.legend()\n",
    "\n",
    "plt.tight_layout()\n",
    "plt.show()"
   ]
  },
  {
   "cell_type": "code",
   "execution_count": 0,
   "metadata": {
    "colab": {},
    "colab_type": "code",
    "id": "ZiwPY42i21nH"
   },
   "outputs": [],
   "source": [
    "#http://scikit-learn.org/stable/auto_examples/model_selection/plot_confusion_matrix.html\n",
    "def plot_confusion_matrix(cm, classes,\n",
    "                          normalize=False,\n",
    "                          title='Confusion matrix',\n",
    "                          cmap=plt.cm.Blues):\n",
    "    \"\"\"\n",
    "    This function prints and plots the confusion matrix.\n",
    "    Normalization can be applied by setting `normalize=True`.\n",
    "    \"\"\"\n",
    "    if normalize:\n",
    "        cm = cm.astype('float') / cm.sum(axis=1)[:, np.newaxis]\n",
    "        print(\"Normalized confusion matrix\")\n",
    "    else:\n",
    "        print('Confusion matrix, without normalization')\n",
    "\n",
    "    plt.imshow(cm, interpolation='nearest', cmap=cmap)\n",
    "    plt.title(title)\n",
    "    plt.colorbar()\n",
    "    tick_marks = np.arange(len(classes))\n",
    "    plt.xticks(tick_marks, classes, rotation=45)\n",
    "    plt.yticks(tick_marks, classes)\n",
    "\n",
    "    fmt = '.2f' if normalize else 'd'\n",
    "    thresh = cm.max() / 2.\n",
    "    for i, j in itertools.product(range(cm.shape[0]), range(cm.shape[1])):\n",
    "        plt.text(j, i, format(cm[i, j], fmt),\n",
    "                 horizontalalignment=\"center\",\n",
    "                 color=\"white\" if cm[i, j] > thresh else \"black\")\n",
    "\n",
    "    plt.tight_layout()\n",
    "    plt.ylabel('True label')\n",
    "    plt.xlabel('Predicted label')"
   ]
  },
  {
   "cell_type": "code",
   "execution_count": 0,
   "metadata": {
    "colab": {},
    "colab_type": "code",
    "id": "f2IO-xU321nL"
   },
   "outputs": [],
   "source": [
    "preds = np.argmax(model.predict(X_test), axis = 1)\n",
    "y_orig = np.argmax(y_test, axis = 1)\n",
    "cm = confusion_matrix(preds, y_orig)"
   ]
  },
  {
   "cell_type": "code",
   "execution_count": 0,
   "metadata": {
    "colab": {
     "base_uri": "https://localhost:8080/",
     "height": 598
    },
    "colab_type": "code",
    "executionInfo": {
     "elapsed": 3733,
     "status": "ok",
     "timestamp": 1554383902450,
     "user": {
      "displayName": "Athul KS",
      "photoUrl": "",
      "userId": "03174642990050389939"
     },
     "user_tz": -330
    },
    "id": "dygXGPZK21nU",
    "outputId": "c69fb869-d5d0-41f8-e16f-fbb732a26c6f"
   },
   "outputs": [
    {
     "name": "stdout",
     "output_type": "stream",
     "text": [
      "Normalized confusion matrix\n"
     ]
    },
    {
     "data": {
      "image/png": "[encoded data removed]",
      "text/plain": [
       "<Figure size 576x576 with 2 Axes>"
      ]
     },
     "metadata": {
      "tags": []
     },
     "output_type": "display_data"
    }
   ],
   "source": [
    "keys = OrderedDict(sorted(genres.items(), key=lambda t: t[1])).keys()\n",
    "\n",
    "plt.figure(figsize=(8,8))\n",
    "plot_confusion_matrix(cm, keys, normalize=True)"
   ]
  },
  {
   "cell_type": "markdown",
   "metadata": {
    "colab_type": "text",
    "id": "-U6xN30_21nc"
   },
   "source": [
    "## Save the model"
   ]
  },
  {
   "cell_type": "code",
   "execution_count": 0,
   "metadata": {
    "colab": {},
    "colab_type": "code",
    "id": "Sn4cMvkw21nd"
   },
   "outputs": [],
   "source": [
    "# Save the model\n",
    "model.save('/content/gdrive/My Drive/gtzan.keras/data/nbs_deeplearning.h5')"
   ]
  },
  {
   "cell_type": "code",
   "execution_count": 0,
   "metadata": {
    "colab": {},
    "colab_type": "code",
    "id": "Xa1EQRsCgJl5"
   },
   "outputs": [],
   "source": [
    "X=np.load('/content/gdrive/My Drive/test_demo/samples.npy')"
   ]
  },
  {
   "cell_type": "code",
   "execution_count": 0,
   "metadata": {
    "colab": {
     "base_uri": "https://localhost:8080/",
     "height": 34
    },
    "colab_type": "code",
    "executionInfo": {
     "elapsed": 1426,
     "status": "ok",
     "timestamp": 1554385417937,
     "user": {
      "displayName": "Athul KS",
      "photoUrl": "",
      "userId": "03174642990050389939"
     },
     "user_tz": -330
    },
    "id": "GOkesjF5keto",
    "outputId": "8dedc7f6-2e69-40a3-aff7-1a367db1a5ad"
   },
   "outputs": [
    {
     "name": "stdout",
     "output_type": "stream",
     "text": [
      "[4 9 8 3 2 5 7 6 1 0]\n"
     ]
    }
   ],
   "source": [
    "k = model.predict(X)\n",
    "indices = np.argsort(k)[0][::-1]\n",
    "print(indices)"
   ]
  }
 ],
 "metadata": {
  "accelerator": "TPU",
  "colab": {
   "name": "canor_keras.ipynb",
   "provenance": []
  },
  "kernelspec": {
   "display_name": "Python 3",
   "language": "python",
   "name": "python3"
  },
  "language_info": {
   "codemirror_mode": {
    "name": "ipython",
    "version": 3
   },
   "file_extension": ".py",
   "mimetype": "text/x-python",
   "name": "python",
   "nbconvert_exporter": "python",
   "pygments_lexer": "ipython3",
   "version": "3.7.3"
  }
 },
 "nbformat": 4,
 "nbformat_minor": 1
}
